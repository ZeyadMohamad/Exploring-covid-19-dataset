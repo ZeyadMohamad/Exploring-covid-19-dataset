{
 "cells": [
  {
   "cell_type": "markdown",
   "metadata": {},
   "source": [
    "# Importing Modules"
   ]
  },
  {
   "cell_type": "code",
   "execution_count": null,
   "metadata": {},
   "outputs": [],
   "source": [
    "import numpy as np # type: ignore\n",
    "import pandas as pd\n",
    "import matplotlib.pyplot as plt\n",
    "import seaborn as sns\n",
    "from sklearn.impute import SimpleImputer\n",
    "import warnings as wn"
   ]
  },
  {
   "cell_type": "code",
   "execution_count": null,
   "metadata": {},
   "outputs": [],
   "source": [
    "wn.filterwarnings(action = \"ignore\")"
   ]
  },
  {
   "cell_type": "markdown",
   "metadata": {},
   "source": [
    "# Preparing and Exploring Dataframe"
   ]
  },
  {
   "cell_type": "code",
   "execution_count": null,
   "metadata": {},
   "outputs": [],
   "source": [
    "# Importing csv file to dataframe\n",
    "covid = pd.read_csv(\"D:\\python\\py files\\owid-covid-data (1).csv\")\n",
    "covid.head()"
   ]
  },
  {
   "cell_type": "code",
   "execution_count": null,
   "metadata": {},
   "outputs": [],
   "source": [
    "covid.shape"
   ]
  },
  {
   "cell_type": "code",
   "execution_count": null,
   "metadata": {},
   "outputs": [],
   "source": [
    "covid.describe()"
   ]
  },
  {
   "cell_type": "code",
   "execution_count": null,
   "metadata": {},
   "outputs": [],
   "source": [
    "covid.columns.tolist()"
   ]
  },
  {
   "cell_type": "code",
   "execution_count": null,
   "metadata": {},
   "outputs": [],
   "source": [
    "covid = covid.drop_duplicates()\n",
    "print(covid.duplicated().sum())"
   ]
  },
  {
   "cell_type": "code",
   "execution_count": null,
   "metadata": {},
   "outputs": [],
   "source": [
    "# droping unnecessary columns from dataframe\n",
    "column_list = covid.columns.tolist()\n",
    "del_index_1 = column_list.index(\"reproduction_rate\")\n",
    "del_index_2 = column_list.index(\"tests_units\")\n",
    "\n",
    "covid.drop(covid.iloc[:, del_index_1:del_index_2], axis = 1, inplace = True)\n",
    "covid.shape"
   ]
  },
  {
   "cell_type": "code",
   "execution_count": null,
   "metadata": {},
   "outputs": [],
   "source": [
    "# renaming the column names\n",
    "covid.rename(columns={'date': 'Date','location':'Country','continent': 'Continent','iso_code':'ISO_code'},inplace=True)\n",
    "continent_unique = list(covid.Continent.unique())\n",
    "continent_unique"
   ]
  },
  {
   "cell_type": "code",
   "execution_count": null,
   "metadata": {},
   "outputs": [],
   "source": [
    "# finding null values in the dataframe\n",
    "covid.isnull().sum()"
   ]
  },
  {
   "cell_type": "code",
   "execution_count": null,
   "metadata": {},
   "outputs": [],
   "source": [
    "# replacing a missing value with a constant value.\n",
    "imputer = SimpleImputer(strategy='constant')\n",
    "covid2 = pd.DataFrame(imputer.fit_transform(covid),columns=covid.columns)"
   ]
  },
  {
   "cell_type": "code",
   "execution_count": null,
   "metadata": {},
   "outputs": [],
   "source": [
    "# Group by 'Date' and 'Country', and sum numeric columns\n",
    "covid['total_cases'] = pd.to_numeric(covid['total_cases'], errors='coerce')\n",
    "covid['total_deaths'] = pd.to_numeric(covid['total_deaths'], errors='coerce')\n",
    "covid['total_vaccinations'] = pd.to_numeric(covid['total_vaccinations'], errors='coerce')\n",
    "\n",
    "df = covid.groupby(['Date', 'Country'])[['total_cases','total_deaths','total_vaccinations']].agg('sum').reset_index()\n",
    "df"
   ]
  },
  {
   "cell_type": "markdown",
   "metadata": {},
   "source": []
  },
  {
   "cell_type": "markdown",
   "metadata": {},
   "source": [
    "# Identifying Outliers Using IQR"
   ]
  },
  {
   "cell_type": "code",
   "execution_count": null,
   "metadata": {},
   "outputs": [],
   "source": [
    "#25th percentile and 75 percentile\n",
    "Q1 = covid['total_cases'].quantile(0.25)\n",
    "Q3 = covid['total_cases'].quantile(0.75)\n",
    "IQR = Q3 - Q1\n",
    "\n",
    "# Define outliers\n",
    "covid[\"is_outlier\"] = (covid['total_cases'] < (Q1 - 1.5 * IQR)) | (covid['total_cases'] > (Q3 + 1.5 * IQR))\n",
    "\n",
    "# removing the outliers and printing the new shape \n",
    "covid = covid[covid[\"is_outlier\"] == False]\n",
    "covid.shape"
   ]
  },
  {
   "cell_type": "markdown",
   "metadata": {},
   "source": [
    "# Plot countries where total_deaths is greater than 1000000"
   ]
  },
  {
   "cell_type": "code",
   "execution_count": null,
   "metadata": {},
   "outputs": [],
   "source": [
    "df2 = df[df['total_deaths'] > 1000000]\n",
    "countries = df2['Country'].unique()\n",
    "len(countries)"
   ]
  },
  {
   "cell_type": "code",
   "execution_count": null,
   "metadata": {},
   "outputs": [],
   "source": [
    "country_deaths_greaterthan1000000 = list(countries)\n",
    "country_deaths_greaterthan1000000"
   ]
  },
  {
   "cell_type": "code",
   "execution_count": null,
   "metadata": {},
   "outputs": [],
   "source": [
    "for idx in range (0, len(countries)):\n",
    "    C = df2[df2[ 'Country' ]==countries [idx]].reset_index()\n",
    "    plt.scatter (np.arange(0,len (C)),C[ 'total_cases' ], color=\"blue\", label=\"total_cases\") \n",
    "    plt.scatter (np.arange(0,len (C)),C['total_deaths' ], color=\"red\", label=\"total_deaths\")\n",
    "    plt.scatter (np.arange(0,len (C)),C['total_vaccinations' ], color=\"green\", label=\"total_vaccinations\")\n",
    "    plt.title(countries[idx])\n",
    "    plt.xlabel(\"Number of days since first suspect\")\n",
    "    plt.ylabel(\"Number of cases\")\n",
    "    plt.legend()\n",
    "    plt.show()"
   ]
  },
  {
   "cell_type": "markdown",
   "metadata": {},
   "source": [
    "# How have the number of COVID-19 cases and deaths evolved over time"
   ]
  },
  {
   "cell_type": "code",
   "execution_count": null,
   "metadata": {},
   "outputs": [],
   "source": [
    "col = covid[['Date', 'total_cases', 'total_deaths']]\n",
    "covid['Date'] = pd.to_datetime(df['Date'])\n",
    "covid = covid.dropna(subset=['total_cases', 'total_deaths'])\n",
    "\n",
    "global_trends = covid.groupby('Date').agg({\n",
    "    'total_cases': 'sum',\n",
    "    'total_deaths': 'sum'\n",
    "}).reset_index()"
   ]
  },
  {
   "cell_type": "code",
   "execution_count": null,
   "metadata": {},
   "outputs": [],
   "source": [
    "# Plot global trends\n",
    "plt.figure(figsize=(14, 7))\n",
    "\n",
    "plt.plot(global_trends['Date'],global_trends['total_cases'], label='Total Cases', color='blue')\n",
    "plt.plot(global_trends['Date'], global_trends['total_deaths'], label='Total Deaths', color='red')\n",
    "\n",
    "plt.xlabel('Date')\n",
    "plt.ylabel('Count')\n",
    "plt.title('Global COVID-19 Cases and Deaths Over Time')\n",
    "plt.legend()\n",
    "# plt.grid(True)\n",
    "plt.show()"
   ]
  },
  {
   "cell_type": "markdown",
   "metadata": {},
   "source": [
    "Plotting for the countries that have deaths greater than 1000000"
   ]
  },
  {
   "cell_type": "code",
   "execution_count": null,
   "metadata": {},
   "outputs": [],
   "source": [
    "for i in country_deaths_greaterthan1000000:\n",
    "    # Example: Filter for a specific country (e.g., 'United States')\n",
    "    country_df = covid[covid['Country'] == i]\n",
    "\n",
    "    if not country_df.empty: \n",
    "\n",
    "        # Aggregate and plot for this country\n",
    "        country_trends = country_df.groupby('Date').agg({\n",
    "            'total_cases': 'sum',\n",
    "            'total_deaths': 'sum'\n",
    "        }).reset_index()\n",
    "\n",
    "        \n",
    "        plt.figure(figsize=(14, 7))\n",
    "\n",
    "        plt.plot(country_trends['Date'], country_trends['total_cases'], label='Total Cases', color='blue')\n",
    "        plt.plot(country_trends['Date'], country_trends['total_deaths'], label='Total Deaths', color='red')\n",
    "\n",
    "        plt.xlabel('Date')\n",
    "        plt.ylabel('Count')\n",
    "        plt.title('COVID-19 Cases and Deaths in the United States Over Time')\n",
    "        plt.legend()\n",
    "        plt.grid(True)\n",
    "        plt.show()\n",
    "    else:\n",
    "        continue"
   ]
  },
  {
   "cell_type": "markdown",
   "metadata": {},
   "source": [
    "# What is the distribution of COVID-19 cases across different countries"
   ]
  },
  {
   "cell_type": "code",
   "execution_count": null,
   "metadata": {},
   "outputs": [],
   "source": [
    "dist = covid[['Country', 'total_cases']]\n",
    "\n",
    "dist = dist.dropna(subset=['total_cases'])\n",
    "\n",
    "dist = dist.drop_duplicates()\n",
    "\n",
    "latest_cases = dist.groupby('Country').agg({\n",
    "    'total_cases': 'max'  # Assuming you want the latest reported cases\n",
    "}).reset_index()"
   ]
  },
  {
   "cell_type": "code",
   "execution_count": null,
   "metadata": {},
   "outputs": [],
   "source": [
    "# Plot the distribution of total COVID-19 cases by country\n",
    "plt.figure(figsize=(16, 45))\n",
    "\n",
    "# Sort countries by total cases\n",
    "latest_cases_sorted = latest_cases.sort_values(by='total_cases', ascending=False)\n",
    "\n",
    "# Plot a bar chart\n",
    "sns.barplot(x='total_cases', y='Country', data=latest_cases_sorted, palette='viridis')\n",
    "\n",
    "plt.xlabel('Total Cases')\n",
    "plt.ylabel('Country/Region')\n",
    "plt.title('Distribution of COVID-19 Cases Across Different Countries/Regions')\n",
    "plt.show()"
   ]
  }
 ],
 "metadata": {
  "kernelspec": {
   "display_name": "Python 3",
   "language": "python",
   "name": "python3"
  },
  "language_info": {
   "codemirror_mode": {
    "name": "ipython",
    "version": 3
   },
   "file_extension": ".py",
   "mimetype": "text/x-python",
   "name": "python",
   "nbconvert_exporter": "python",
   "pygments_lexer": "ipython3",
   "version": "3.12.4"
  }
 },
 "nbformat": 4,
 "nbformat_minor": 2
}
